{
 "cells": [
  {
   "cell_type": "markdown",
   "id": "854af798-ec50-48a8-8bce-ca6ac52ff7cf",
   "metadata": {},
   "source": [
    "### Data Structures in Python "
   ]
  },
  {
   "cell_type": "markdown",
   "id": "65b3a453-1a3a-46e0-a9f7-1523037ca8f1",
   "metadata": {},
   "source": [
    "#### Lists  \n",
    "#### Tuples\n",
    "#### Sets\n",
    "#### Dictionaries etc."
   ]
  },
  {
   "cell_type": "code",
   "execution_count": null,
   "id": "9fd58175-9dfb-4337-bb98-814409520924",
   "metadata": {},
   "outputs": [],
   "source": []
  },
  {
   "cell_type": "markdown",
   "id": "adb76b59-2635-4313-927a-058a92e32363",
   "metadata": {},
   "source": [
    "#### Lists --- Ordered collections of items that can be of any data type, including strings, integers, floats, and other lists. []"
   ]
  },
  {
   "cell_type": "code",
   "execution_count": 10,
   "id": "e389083d-769e-4fca-a6a3-d4b32bc27a99",
   "metadata": {},
   "outputs": [
    {
     "data": {
      "text/plain": [
       "[]"
      ]
     },
     "execution_count": 10,
     "metadata": {},
     "output_type": "execute_result"
    }
   ],
   "source": [
    "my_list = []    # Empty list\n",
    "my_list"
   ]
  },
  {
   "cell_type": "code",
   "execution_count": 24,
   "id": "f5647d89-8504-4c1f-84cb-781865480247",
   "metadata": {},
   "outputs": [
    {
     "data": {
      "text/plain": [
       "[]"
      ]
     },
     "execution_count": 24,
     "metadata": {},
     "output_type": "execute_result"
    }
   ],
   "source": [
    "my_list = list()    # Empty list\n",
    "my_list"
   ]
  },
  {
   "cell_type": "code",
   "execution_count": 26,
   "id": "01dc4fdf-3d35-4d57-84f5-8fcf29508cfb",
   "metadata": {},
   "outputs": [
    {
     "name": "stdout",
     "output_type": "stream",
     "text": [
      "<class 'list'>\n"
     ]
    }
   ],
   "source": [
    "print(type(my_list))"
   ]
  },
  {
   "cell_type": "code",
   "execution_count": 28,
   "id": "ddd398b6-139d-43a8-a072-66e6ace2ccf3",
   "metadata": {},
   "outputs": [
    {
     "data": {
      "text/plain": [
       "0"
      ]
     },
     "execution_count": 28,
     "metadata": {},
     "output_type": "execute_result"
    }
   ],
   "source": [
    "len(my_list)"
   ]
  },
  {
   "cell_type": "code",
   "execution_count": 30,
   "id": "56247258-5503-4e31-b493-5aaeb6671ee0",
   "metadata": {},
   "outputs": [
    {
     "data": {
      "text/plain": [
       "[1]"
      ]
     },
     "execution_count": 30,
     "metadata": {},
     "output_type": "execute_result"
    }
   ],
   "source": [
    "my_list.append(1)        # Add an item to the list\n",
    "my_list"
   ]
  },
  {
   "cell_type": "code",
   "execution_count": 32,
   "id": "45ecc7fa-b227-485f-8519-33003185f536",
   "metadata": {},
   "outputs": [
    {
     "data": {
      "text/plain": [
       "[1, [2, 3]]"
      ]
     },
     "execution_count": 32,
     "metadata": {},
     "output_type": "execute_result"
    }
   ],
   "source": [
    "my_list.append([2,3])        # Add an item to the list\n",
    "my_list"
   ]
  },
  {
   "cell_type": "code",
   "execution_count": 36,
   "id": "297b8df9-11e4-4dda-a938-6bef7ff94744",
   "metadata": {},
   "outputs": [
    {
     "data": {
      "text/plain": [
       "[1, [2, 3], (1, 3, 4, 7)]"
      ]
     },
     "execution_count": 36,
     "metadata": {},
     "output_type": "execute_result"
    }
   ],
   "source": [
    "my_list.append((1, 3, 4, 7))        # Add an item to the list\n",
    "my_list"
   ]
  },
  {
   "cell_type": "code",
   "execution_count": 38,
   "id": "537ad2a8-66bc-4c6b-b0cc-50f6c80982eb",
   "metadata": {},
   "outputs": [
    {
     "data": {
      "text/plain": [
       "3"
      ]
     },
     "execution_count": 38,
     "metadata": {},
     "output_type": "execute_result"
    }
   ],
   "source": [
    "len(my_list)"
   ]
  },
  {
   "cell_type": "code",
   "execution_count": 40,
   "id": "1e782ccb-6a0d-4aef-89da-8ce67bb0ce5c",
   "metadata": {},
   "outputs": [
    {
     "data": {
      "text/plain": [
       "2281302883072"
      ]
     },
     "execution_count": 40,
     "metadata": {},
     "output_type": "execute_result"
    }
   ],
   "source": [
    "id(my_list)"
   ]
  },
  {
   "cell_type": "code",
   "execution_count": 42,
   "id": "957760c6-a85c-4538-b38d-93692a56548e",
   "metadata": {},
   "outputs": [
    {
     "data": {
      "text/plain": [
       "['False',\n",
       " 'None',\n",
       " 'True',\n",
       " 'and',\n",
       " 'as',\n",
       " 'assert',\n",
       " 'async',\n",
       " 'await',\n",
       " 'break',\n",
       " 'class',\n",
       " 'continue',\n",
       " 'def',\n",
       " 'del',\n",
       " 'elif',\n",
       " 'else',\n",
       " 'except',\n",
       " 'finally',\n",
       " 'for',\n",
       " 'from',\n",
       " 'global',\n",
       " 'if',\n",
       " 'import',\n",
       " 'in',\n",
       " 'is',\n",
       " 'lambda',\n",
       " 'nonlocal',\n",
       " 'not',\n",
       " 'or',\n",
       " 'pass',\n",
       " 'raise',\n",
       " 'return',\n",
       " 'try',\n",
       " 'while',\n",
       " 'with',\n",
       " 'yield']"
      ]
     },
     "execution_count": 42,
     "metadata": {},
     "output_type": "execute_result"
    }
   ],
   "source": [
    "import keyword\n",
    "keyword.kwlist\n"
   ]
  },
  {
   "cell_type": "code",
   "execution_count": 46,
   "id": "2954e84a-bc81-41f4-b14d-d8e366b18f18",
   "metadata": {},
   "outputs": [
    {
     "data": {
      "text/plain": [
       "35"
      ]
     },
     "execution_count": 46,
     "metadata": {},
     "output_type": "execute_result"
    }
   ],
   "source": [
    "len(keyword.kwlist)"
   ]
  },
  {
   "cell_type": "code",
   "execution_count": 72,
   "id": "962dd849-ddd5-47bb-9651-b2d001d1409e",
   "metadata": {},
   "outputs": [
    {
     "data": {
      "text/plain": [
       "[1, [2, 3], (1, 3, 4, 7)]"
      ]
     },
     "execution_count": 72,
     "metadata": {},
     "output_type": "execute_result"
    }
   ],
   "source": [
    "my_list1 = my_list.copy()\n",
    "my_list1"
   ]
  },
  {
   "cell_type": "code",
   "execution_count": 74,
   "id": "e11c2824-d09f-472d-9ac1-482d145f4635",
   "metadata": {},
   "outputs": [],
   "source": [
    "# Slicing"
   ]
  },
  {
   "cell_type": "code",
   "execution_count": 76,
   "id": "76952a1c-36e9-41c1-bb14-96dbfe5dae73",
   "metadata": {},
   "outputs": [
    {
     "data": {
      "text/plain": [
       "[1, [2, 3], (1, 3, 4, 7)]"
      ]
     },
     "execution_count": 76,
     "metadata": {},
     "output_type": "execute_result"
    }
   ],
   "source": [
    "my_list1[:]"
   ]
  },
  {
   "cell_type": "code",
   "execution_count": 78,
   "id": "c3fa445e-b1f9-43b8-84bc-82463d148a9f",
   "metadata": {},
   "outputs": [
    {
     "data": {
      "text/plain": [
       "[1, [2, 3]]"
      ]
     },
     "execution_count": 78,
     "metadata": {},
     "output_type": "execute_result"
    }
   ],
   "source": [
    "my_list1[:2]"
   ]
  },
  {
   "cell_type": "code",
   "execution_count": 80,
   "id": "1dd13b48-5ae6-400e-920f-bd43efacaff9",
   "metadata": {},
   "outputs": [
    {
     "data": {
      "text/plain": [
       "(1, 3, 4, 7)"
      ]
     },
     "execution_count": 80,
     "metadata": {},
     "output_type": "execute_result"
    }
   ],
   "source": [
    "my_list1[-1]"
   ]
  },
  {
   "cell_type": "code",
   "execution_count": 82,
   "id": "278e3ad3-e04e-4562-9b37-1071e064419f",
   "metadata": {},
   "outputs": [],
   "source": [
    "my_list1.append(2.3)\n",
    "my_list1.append(True)\n",
    "my_list1.append(3+2.7j)\n",
    "my_list1.append(2.3)"
   ]
  },
  {
   "cell_type": "code",
   "execution_count": 84,
   "id": "28fc1cdb-5624-471e-a987-7bbe01d1e28f",
   "metadata": {},
   "outputs": [
    {
     "data": {
      "text/plain": [
       "[1, [2, 3], (1, 3, 4, 7), 2.3, True, (3+2.7j), 2.3]"
      ]
     },
     "execution_count": 84,
     "metadata": {},
     "output_type": "execute_result"
    }
   ],
   "source": [
    "my_list1"
   ]
  },
  {
   "cell_type": "code",
   "execution_count": 86,
   "id": "4f161875-016d-4238-92a0-4c9e3f8c393a",
   "metadata": {},
   "outputs": [
    {
     "data": {
      "text/plain": [
       "2"
      ]
     },
     "execution_count": 86,
     "metadata": {},
     "output_type": "execute_result"
    }
   ],
   "source": [
    "my_list1.count(2.3)"
   ]
  },
  {
   "cell_type": "code",
   "execution_count": 90,
   "id": "a5e7f62e-d838-4e33-b9b3-9ba94576cc88",
   "metadata": {},
   "outputs": [
    {
     "data": {
      "text/plain": [
       "[[2, 3], (1, 3, 4, 7), 2.3, (3+2.7j), 2.3]"
      ]
     },
     "execution_count": 90,
     "metadata": {},
     "output_type": "execute_result"
    }
   ],
   "source": [
    "my_list1.remove(True)    # Remove the element\n",
    "my_list1"
   ]
  },
  {
   "cell_type": "code",
   "execution_count": 92,
   "id": "dce0c36b-056a-4082-a0c1-d7e5f1001cf7",
   "metadata": {},
   "outputs": [
    {
     "data": {
      "text/plain": [
       "[]"
      ]
     },
     "execution_count": 92,
     "metadata": {},
     "output_type": "execute_result"
    }
   ],
   "source": [
    "my_list1.clear()\n",
    "my_list1"
   ]
  },
  {
   "cell_type": "code",
   "execution_count": 94,
   "id": "aebe27e5-c43a-4b51-8e2a-bbafb582f662",
   "metadata": {},
   "outputs": [
    {
     "data": {
      "text/plain": [
       "[1, 3, 4, 5, 6]"
      ]
     },
     "execution_count": 94,
     "metadata": {},
     "output_type": "execute_result"
    }
   ],
   "source": [
    "my_list2 = [1,3,4,5,6]\n",
    "my_list2"
   ]
  },
  {
   "cell_type": "code",
   "execution_count": 98,
   "id": "6516e063-39a0-4b46-b6d1-3559084445a2",
   "metadata": {},
   "outputs": [
    {
     "data": {
      "text/plain": [
       "3"
      ]
     },
     "execution_count": 98,
     "metadata": {},
     "output_type": "execute_result"
    }
   ],
   "source": [
    "my_list2[1]    # indexing "
   ]
  },
  {
   "cell_type": "code",
   "execution_count": 100,
   "id": "748ac83b-b781-4116-80a0-314e88cea969",
   "metadata": {},
   "outputs": [
    {
     "name": "stdout",
     "output_type": "stream",
     "text": [
      "1\n",
      "3\n",
      "4\n",
      "5\n",
      "6\n"
     ]
    }
   ],
   "source": [
    "for i in my_list2:\n",
    "    print(i)"
   ]
  },
  {
   "cell_type": "code",
   "execution_count": 102,
   "id": "b9bc2842-95a8-4226-88fe-a19688607e67",
   "metadata": {},
   "outputs": [
    {
     "name": "stdout",
     "output_type": "stream",
     "text": [
      "0 1\n",
      "1 3\n",
      "2 4\n",
      "3 5\n",
      "4 6\n"
     ]
    }
   ],
   "source": [
    "for i, num in enumerate(my_list2):\n",
    "    print(i, num)"
   ]
  },
  {
   "cell_type": "code",
   "execution_count": 104,
   "id": "d166f50b-9d64-4708-8e72-ebdb4c0bf8dd",
   "metadata": {},
   "outputs": [
    {
     "name": "stdout",
     "output_type": "stream",
     "text": [
      "(0, 1)\n",
      "(1, 3)\n",
      "(2, 4)\n",
      "(3, 5)\n",
      "(4, 6)\n"
     ]
    }
   ],
   "source": [
    "for num in enumerate(my_list2):\n",
    "    print(num)"
   ]
  },
  {
   "cell_type": "code",
   "execution_count": 142,
   "id": "8bf9118e-03cc-42e1-a8d2-9cdb4d7f24bd",
   "metadata": {},
   "outputs": [],
   "source": [
    "my_list3 = [7, 4]"
   ]
  },
  {
   "cell_type": "code",
   "execution_count": 144,
   "id": "e0c848d5-5736-4316-837b-07e496e537f0",
   "metadata": {},
   "outputs": [
    {
     "data": {
      "text/plain": [
       "[7, 4, ['Hi', 20, 3.2, False, (2+3j)]]"
      ]
     },
     "execution_count": 144,
     "metadata": {},
     "output_type": "execute_result"
    }
   ],
   "source": [
    "my_list3.append(['Hi', 20, 3.2, False, 2+3j])  # Nested  list\n",
    "my_list3"
   ]
  },
  {
   "cell_type": "code",
   "execution_count": 146,
   "id": "8eb279b7-254a-4e1c-84a5-60a1e991d31f",
   "metadata": {},
   "outputs": [
    {
     "data": {
      "text/plain": [
       "['Hi', 20, 3.2, False, (2+3j)]"
      ]
     },
     "execution_count": 146,
     "metadata": {},
     "output_type": "execute_result"
    }
   ],
   "source": [
    "my_list3.pop(-1)\n"
   ]
  },
  {
   "cell_type": "code",
   "execution_count": 148,
   "id": "a9a7326f-bdcb-432b-88d7-7968712fd4be",
   "metadata": {},
   "outputs": [
    {
     "data": {
      "text/plain": [
       "[7, 4, 1]"
      ]
     },
     "execution_count": 148,
     "metadata": {},
     "output_type": "execute_result"
    }
   ],
   "source": [
    "my_list3.insert(13, 1)\n",
    "my_list3"
   ]
  },
  {
   "cell_type": "code",
   "execution_count": 150,
   "id": "68f8f6a9-96ea-4cc5-abad-c730b5eee63e",
   "metadata": {},
   "outputs": [
    {
     "data": {
      "text/plain": [
       "1"
      ]
     },
     "execution_count": 150,
     "metadata": {},
     "output_type": "execute_result"
    }
   ],
   "source": [
    "my_list3.index(4)"
   ]
  },
  {
   "cell_type": "code",
   "execution_count": 154,
   "id": "46f02eb0-2e7e-40ad-9609-eb7701a3bf1f",
   "metadata": {},
   "outputs": [
    {
     "data": {
      "text/plain": [
       "[7, 4, 1]"
      ]
     },
     "execution_count": 154,
     "metadata": {},
     "output_type": "execute_result"
    }
   ],
   "source": [
    "my_list3.sort(reverse=True)    # Descending order\n",
    "my_list3"
   ]
  },
  {
   "cell_type": "code",
   "execution_count": 156,
   "id": "f31d2efc-9a62-4af2-bf4a-d8eec4515901",
   "metadata": {},
   "outputs": [
    {
     "data": {
      "text/plain": [
       "[1, 4, 7]"
      ]
     },
     "execution_count": 156,
     "metadata": {},
     "output_type": "execute_result"
    }
   ],
   "source": [
    "my_list3.sort(reverse=False)    # escending order\n",
    "my_list3"
   ]
  },
  {
   "cell_type": "code",
   "execution_count": null,
   "id": "ab5380b7-4838-40aa-af33-b8efcfd5d030",
   "metadata": {},
   "outputs": [],
   "source": []
  },
  {
   "cell_type": "code",
   "execution_count": null,
   "id": "b79e915a-4318-48cb-b568-512e55d9f951",
   "metadata": {},
   "outputs": [],
   "source": []
  },
  {
   "cell_type": "markdown",
   "id": "f1a1de0b-06dc-44d6-b5fb-b62799b792e7",
   "metadata": {},
   "source": [
    "#### Tuples --- Ordered, immutable collections of items that can be of any data type.  ()"
   ]
  },
  {
   "cell_type": "raw",
   "id": "11fca62b-1a1d-4f5c-b4e5-61dd3d342eb3",
   "metadata": {},
   "source": [
    "- Tuple is similar to List except that the objects in Tuple are immutable which means we can not change the items \n",
    "of a Tuple once assigned\n",
    "- Tuple is prefered data type when we do not want to change the data over time.\n",
    "- Iterating over the items of a tuple is faster compared to iterating over a list."
   ]
  },
  {
   "cell_type": "code",
   "execution_count": 6,
   "id": "b79c5b08-c595-4764-b34d-c50c8970c9b8",
   "metadata": {},
   "outputs": [
    {
     "data": {
      "text/plain": [
       "()"
      ]
     },
     "execution_count": 6,
     "metadata": {},
     "output_type": "execute_result"
    }
   ],
   "source": [
    "tup1 = ()   # Empty tuple\n",
    "tup1"
   ]
  },
  {
   "cell_type": "code",
   "execution_count": 7,
   "id": "0c7d23f5-6b07-456e-9e5b-ad7886bb2f44",
   "metadata": {},
   "outputs": [
    {
     "name": "stdout",
     "output_type": "stream",
     "text": [
      "<class 'tuple'>\n"
     ]
    }
   ],
   "source": [
    "print(type(tup1))"
   ]
  },
  {
   "cell_type": "code",
   "execution_count": 8,
   "id": "fc8a7de2-7c16-40a0-980d-d0636963ae52",
   "metadata": {},
   "outputs": [],
   "source": [
    "tup2 = (10, 20, 30)     # tuple of intger numbers"
   ]
  },
  {
   "cell_type": "code",
   "execution_count": 9,
   "id": "9ea6689c-228b-46bc-acad-46af9c6a9cac",
   "metadata": {},
   "outputs": [],
   "source": [
    "tup3 = (10.77, 30.66, 60.89)  # tuple of float numbers"
   ]
  },
  {
   "cell_type": "code",
   "execution_count": 10,
   "id": "cab8383f-e8db-45e9-90f9-f91448480b3c",
   "metadata": {},
   "outputs": [],
   "source": [
    "tup4 = ('one', 'two', 'three')  # tuple of strings"
   ]
  },
  {
   "cell_type": "code",
   "execution_count": 11,
   "id": "181c63cc-78b1-4be7-88d4-adf72df2906e",
   "metadata": {},
   "outputs": [],
   "source": [
    "tup5 = ('nested', 25, (50, 100), (150, 78))    # Nested tuple"
   ]
  },
  {
   "cell_type": "code",
   "execution_count": 12,
   "id": "18b2f723-a248-462c-90bd-bc1e8874c2fe",
   "metadata": {},
   "outputs": [
    {
     "data": {
      "text/plain": [
       "4"
      ]
     },
     "execution_count": 12,
     "metadata": {},
     "output_type": "execute_result"
    }
   ],
   "source": [
    "len(tup5)     # length of tuple"
   ]
  },
  {
   "cell_type": "code",
   "execution_count": 13,
   "id": "a3a6d5db-e714-4d15-bd85-d4b678fc29de",
   "metadata": {},
   "outputs": [],
   "source": [
    "tup6 = (100, 'Asif', 17.65)     # Tuple with mixed data types"
   ]
  },
  {
   "cell_type": "code",
   "execution_count": 14,
   "id": "a891d695-5b6f-4486-910f-f55a5b7cf566",
   "metadata": {},
   "outputs": [],
   "source": [
    "tup7 = ('Asif', 25, [50, 100], [159, 48], {'mike', 'Jaden', 'Princess'}, (12, 23, 93))"
   ]
  },
  {
   "cell_type": "code",
   "execution_count": 15,
   "id": "1eeebcf6-ab0f-4e1a-a354-2297ad4007df",
   "metadata": {},
   "outputs": [
    {
     "name": "stdout",
     "output_type": "stream",
     "text": [
      "6\n"
     ]
    }
   ],
   "source": [
    "print(len(tup7))"
   ]
  },
  {
   "cell_type": "markdown",
   "id": "dd573ff9-a7a4-4d54-957c-1a7da5991d58",
   "metadata": {},
   "source": [
    "### Tuple Indexing"
   ]
  },
  {
   "cell_type": "code",
   "execution_count": 17,
   "id": "da769a7c-c3ed-48c9-8eb7-c480b688524d",
   "metadata": {},
   "outputs": [
    {
     "data": {
      "text/plain": [
       "10"
      ]
     },
     "execution_count": 17,
     "metadata": {},
     "output_type": "execute_result"
    }
   ],
   "source": [
    "tup2[0]   # Retreive first item in the tuple"
   ]
  },
  {
   "cell_type": "code",
   "execution_count": 18,
   "id": "f7d0ad06-0ec8-4b6f-86d7-e196dd0f292d",
   "metadata": {},
   "outputs": [
    {
     "data": {
      "text/plain": [
       "'one'"
      ]
     },
     "execution_count": 18,
     "metadata": {},
     "output_type": "execute_result"
    }
   ],
   "source": [
    "tup4[0]"
   ]
  },
  {
   "cell_type": "code",
   "execution_count": 19,
   "id": "df5cd8a1-c99e-4583-9734-afbe4bbc1499",
   "metadata": {},
   "outputs": [
    {
     "data": {
      "text/plain": [
       "('one', 'two', 'three')"
      ]
     },
     "execution_count": 19,
     "metadata": {},
     "output_type": "execute_result"
    }
   ],
   "source": [
    "tup4"
   ]
  },
  {
   "cell_type": "code",
   "execution_count": 20,
   "id": "26544e4c-be06-4781-9548-3e16066c1372",
   "metadata": {},
   "outputs": [
    {
     "data": {
      "text/plain": [
       "'o'"
      ]
     },
     "execution_count": 20,
     "metadata": {},
     "output_type": "execute_result"
    }
   ],
   "source": [
    "tup4[0][0]   # Nested indexing - accessing the first character of the first tuple item"
   ]
  },
  {
   "cell_type": "code",
   "execution_count": 21,
   "id": "e213b1e9-c4f6-4a14-8425-ca93bc241f5f",
   "metadata": {},
   "outputs": [
    {
     "data": {
      "text/plain": [
       "'three'"
      ]
     },
     "execution_count": 21,
     "metadata": {},
     "output_type": "execute_result"
    }
   ],
   "source": [
    "tup4[-1]   # last item in the tuple"
   ]
  },
  {
   "cell_type": "code",
   "execution_count": 22,
   "id": "daa8a322-efa7-45af-b04d-5e25bf3b0217",
   "metadata": {},
   "outputs": [
    {
     "data": {
      "text/plain": [
       "('nested', 25, (50, 100), (150, 78))"
      ]
     },
     "execution_count": 22,
     "metadata": {},
     "output_type": "execute_result"
    }
   ],
   "source": [
    "tup5"
   ]
  },
  {
   "cell_type": "code",
   "execution_count": 23,
   "id": "6c970209-e926-4e34-9bdd-3331d6512b90",
   "metadata": {},
   "outputs": [
    {
     "data": {
      "text/plain": [
       "(150, 78)"
      ]
     },
     "execution_count": 23,
     "metadata": {},
     "output_type": "execute_result"
    }
   ],
   "source": [
    "tup5[-1]"
   ]
  },
  {
   "cell_type": "markdown",
   "id": "0ecdd0e7-d661-40e3-83ae-81b96c19f373",
   "metadata": {},
   "source": [
    "### Tuple Slicing"
   ]
  },
  {
   "cell_type": "code",
   "execution_count": 25,
   "id": "83d6ade2-e9c4-434f-b618-30dbc7089ef9",
   "metadata": {},
   "outputs": [],
   "source": [
    "mytuple = ('one', 'two', 'three', 'four', 'five', 'six', 'seven', 'eight')"
   ]
  },
  {
   "cell_type": "code",
   "execution_count": 26,
   "id": "3f229572-e36c-4fb9-9bf2-f73ff548c5fd",
   "metadata": {},
   "outputs": [
    {
     "data": {
      "text/plain": [
       "('one', 'two', 'three', 'four', 'five', 'six', 'seven', 'eight')"
      ]
     },
     "execution_count": 26,
     "metadata": {},
     "output_type": "execute_result"
    }
   ],
   "source": [
    "mytuple[:]    # column (:) inside a square bracket with variable name, gives all the items in the tuple"
   ]
  },
  {
   "cell_type": "code",
   "execution_count": 27,
   "id": "58270f0a-59c2-423f-ae9c-c2dd7302afbc",
   "metadata": {},
   "outputs": [
    {
     "data": {
      "text/plain": [
       "('one', 'two', 'three')"
      ]
     },
     "execution_count": 27,
     "metadata": {},
     "output_type": "execute_result"
    }
   ],
   "source": [
    "mytuple[0:3]   # Return all items from 0th to 3rd index location excluding the item"
   ]
  },
  {
   "cell_type": "code",
   "execution_count": 28,
   "id": "9c66fc66-bf0d-4c2f-a1c5-18fcbe614759",
   "metadata": {},
   "outputs": [
    {
     "data": {
      "text/plain": [
       "('three', 'four', 'five')"
      ]
     },
     "execution_count": 28,
     "metadata": {},
     "output_type": "execute_result"
    }
   ],
   "source": [
    "mytuple[2:5]   # list all items from 2nd to 5th index loction excluding the item"
   ]
  },
  {
   "cell_type": "code",
   "execution_count": 29,
   "id": "f23967d7-b49c-40a1-affc-6fda5bac526e",
   "metadata": {},
   "outputs": [
    {
     "data": {
      "text/plain": [
       "('one', 'two', 'three')"
      ]
     },
     "execution_count": 29,
     "metadata": {},
     "output_type": "execute_result"
    }
   ],
   "source": [
    "mytuple[:3]  # Return the first three items"
   ]
  },
  {
   "cell_type": "code",
   "execution_count": 30,
   "id": "4a3417f0-71e4-43e3-a298-1427826594c2",
   "metadata": {},
   "outputs": [
    {
     "data": {
      "text/plain": [
       "('six', 'seven', 'eight')"
      ]
     },
     "execution_count": 30,
     "metadata": {},
     "output_type": "execute_result"
    }
   ],
   "source": [
    "mytuple[-3:]   # Return last three items"
   ]
  },
  {
   "cell_type": "markdown",
   "id": "19c15c13-cc26-4834-8043-d0248e09959a",
   "metadata": {},
   "source": [
    "### Remove and Change Items"
   ]
  },
  {
   "cell_type": "code",
   "execution_count": 32,
   "id": "eee4c258-25bd-4326-b7af-154210bb58d6",
   "metadata": {},
   "outputs": [
    {
     "data": {
      "text/plain": [
       "('one', 'two', 'three', 'four', 'five', 'six', 'seven', 'eight')"
      ]
     },
     "execution_count": 32,
     "metadata": {},
     "output_type": "execute_result"
    }
   ],
   "source": [
    "mytuple"
   ]
  },
  {
   "cell_type": "raw",
   "id": "ce33680b-d69f-4410-ad27-7448d17c2724",
   "metadata": {},
   "source": [
    "### We can not Remove or Change items in a Tuple because its IMMUTABLE but deleting (del) the entire tuple is possible "
   ]
  },
  {
   "cell_type": "code",
   "execution_count": 33,
   "id": "7b22e7df-dafc-42ae-8078-23528375e8d6",
   "metadata": {},
   "outputs": [],
   "source": [
    "#del mytuple[0] = 1 # can not CHANGE TUPLE items\n",
    "#del mytuple[0]     # can not DELETE TUPLE item\n",
    "#del mytuple    # Deleting entire tuple is possible"
   ]
  },
  {
   "cell_type": "code",
   "execution_count": null,
   "id": "8aebf050-7f22-47d5-987a-756264c2dcd6",
   "metadata": {},
   "outputs": [],
   "source": []
  },
  {
   "cell_type": "code",
   "execution_count": null,
   "id": "5cef7828-2cbb-41b5-a961-2c859f08176b",
   "metadata": {},
   "outputs": [],
   "source": []
  },
  {
   "cell_type": "markdown",
   "id": "34adfc57-86f1-4d55-a41a-287a1094d886",
   "metadata": {},
   "source": [
    "### Loop through a tuple"
   ]
  },
  {
   "cell_type": "code",
   "execution_count": 35,
   "id": "a424e99e-16f4-43c3-863b-9006c721eca5",
   "metadata": {},
   "outputs": [
    {
     "data": {
      "text/plain": [
       "('one', 'two', 'three', 'four', 'five', 'six', 'seven', 'eight')"
      ]
     },
     "execution_count": 35,
     "metadata": {},
     "output_type": "execute_result"
    }
   ],
   "source": [
    "mytuple"
   ]
  },
  {
   "cell_type": "code",
   "execution_count": 36,
   "id": "46ac46fe-6241-4049-944f-a2706b21e87e",
   "metadata": {},
   "outputs": [
    {
     "name": "stdout",
     "output_type": "stream",
     "text": [
      "one\n",
      "two\n",
      "three\n",
      "four\n",
      "five\n",
      "six\n",
      "seven\n",
      "eight\n"
     ]
    }
   ],
   "source": [
    "for item in mytuple:\n",
    "    print(item)"
   ]
  },
  {
   "cell_type": "code",
   "execution_count": 37,
   "id": "a2a99546-a555-48a2-b970-161d8b7e5b5d",
   "metadata": {},
   "outputs": [],
   "source": [
    "### Enumerate"
   ]
  },
  {
   "cell_type": "code",
   "execution_count": 38,
   "id": "aaf8546e-5fc4-43cd-b98a-abee0101cb28",
   "metadata": {},
   "outputs": [
    {
     "name": "stdout",
     "output_type": "stream",
     "text": [
      "(0, 'one')\n",
      "(1, 'two')\n",
      "(2, 'three')\n",
      "(3, 'four')\n",
      "(4, 'five')\n",
      "(5, 'six')\n",
      "(6, 'seven')\n",
      "(7, 'eight')\n"
     ]
    }
   ],
   "source": [
    "for i in enumerate(mytuple):\n",
    "    print(i)"
   ]
  },
  {
   "cell_type": "code",
   "execution_count": 39,
   "id": "10c2714a-1284-4033-b0e3-567cabcbcca2",
   "metadata": {},
   "outputs": [
    {
     "name": "stdout",
     "output_type": "stream",
     "text": [
      "0 one\n",
      "1 two\n",
      "2 three\n",
      "3 four\n",
      "4 five\n",
      "5 six\n",
      "6 seven\n",
      "7 eight\n"
     ]
    }
   ],
   "source": [
    "for index, item in enumerate(mytuple):\n",
    "    print(index, item)"
   ]
  },
  {
   "cell_type": "markdown",
   "id": "cf60d810-f7e6-4ffb-8f9f-f77a4c6ee527",
   "metadata": {},
   "source": [
    "### Count"
   ]
  },
  {
   "cell_type": "code",
   "execution_count": 41,
   "id": "ad9994c9-6a40-435f-b42d-c36a308f0035",
   "metadata": {},
   "outputs": [],
   "source": [
    "mytuple1 = ('one', 'two', 'three', 'four', 'one', 'two', 'three')"
   ]
  },
  {
   "cell_type": "code",
   "execution_count": 42,
   "id": "2f18d435-d116-41e5-8a95-da8891af8c0a",
   "metadata": {},
   "outputs": [
    {
     "data": {
      "text/plain": [
       "2"
      ]
     },
     "execution_count": 42,
     "metadata": {},
     "output_type": "execute_result"
    }
   ],
   "source": [
    "mytuple1.count('one')    # Number of times item \"one\" occured in the tuple"
   ]
  },
  {
   "cell_type": "code",
   "execution_count": 43,
   "id": "ccfcb55b-0215-44a9-aee0-fd4a9f8a7df5",
   "metadata": {},
   "outputs": [
    {
     "data": {
      "text/plain": [
       "1"
      ]
     },
     "execution_count": 43,
     "metadata": {},
     "output_type": "execute_result"
    }
   ],
   "source": [
    "mytuple1.count('four')"
   ]
  },
  {
   "cell_type": "markdown",
   "id": "b40798db-768e-48d8-bebf-de382549f69e",
   "metadata": {},
   "source": [
    "### Tuple Menmbership"
   ]
  },
  {
   "cell_type": "code",
   "execution_count": 45,
   "id": "7a6b6970-4b78-43a2-b66c-bab49421da04",
   "metadata": {},
   "outputs": [
    {
     "data": {
      "text/plain": [
       "('one', 'two', 'three', 'four', 'one', 'two', 'three')"
      ]
     },
     "execution_count": 45,
     "metadata": {},
     "output_type": "execute_result"
    }
   ],
   "source": [
    "mytuple1"
   ]
  },
  {
   "cell_type": "code",
   "execution_count": 46,
   "id": "01f1f7c5-6ccf-477b-8447-37ccc832f404",
   "metadata": {},
   "outputs": [
    {
     "data": {
      "text/plain": [
       "True"
      ]
     },
     "execution_count": 46,
     "metadata": {},
     "output_type": "execute_result"
    }
   ],
   "source": [
    "'one' in mytuple1   # Check if 'one' exist in the tuple"
   ]
  },
  {
   "cell_type": "code",
   "execution_count": 47,
   "id": "b4328a00-ca21-41ea-9709-7227aac442b3",
   "metadata": {},
   "outputs": [
    {
     "data": {
      "text/plain": [
       "False"
      ]
     },
     "execution_count": 47,
     "metadata": {},
     "output_type": "execute_result"
    }
   ],
   "source": [
    "'ten' in mytuple1"
   ]
  },
  {
   "cell_type": "code",
   "execution_count": 48,
   "id": "58ba3a74-77a2-4f16-81c4-ac577f2b1250",
   "metadata": {},
   "outputs": [
    {
     "name": "stdout",
     "output_type": "stream",
     "text": [
      "Three is present in the tuple\n"
     ]
    }
   ],
   "source": [
    "if 'three' in mytuple1:          # Check if 'three' exist in the tuple\n",
    "    print('Three is present in the tuple')\n",
    "else:\n",
    "    print('Three is not present in the tuple')"
   ]
  },
  {
   "cell_type": "code",
   "execution_count": 49,
   "id": "8f86bebd-78f0-4b2e-827d-06f233c86dca",
   "metadata": {},
   "outputs": [
    {
     "name": "stdout",
     "output_type": "stream",
     "text": [
      "Ten is not present in the tuple\n"
     ]
    }
   ],
   "source": [
    "if 'ten' in mytuple1:\n",
    "    print('Ten is present in the tuple')\n",
    "else:\n",
    "    print('Ten is not present in the tuple')"
   ]
  },
  {
   "cell_type": "code",
   "execution_count": null,
   "id": "a01e65f8-fb6f-43c6-b1e5-0182cebc748f",
   "metadata": {},
   "outputs": [],
   "source": []
  },
  {
   "cell_type": "markdown",
   "id": "3965297d-960f-42c6-8a81-77d7bcafe3f2",
   "metadata": {},
   "source": [
    "### Index Position"
   ]
  },
  {
   "cell_type": "code",
   "execution_count": 51,
   "id": "a6bb6c37-eefd-4531-99e8-4c09d852dc1c",
   "metadata": {},
   "outputs": [
    {
     "data": {
      "text/plain": [
       "('one', 'two', 'three', 'four', 'five', 'six', 'seven', 'eight')"
      ]
     },
     "execution_count": 51,
     "metadata": {},
     "output_type": "execute_result"
    }
   ],
   "source": [
    "mytuple"
   ]
  },
  {
   "cell_type": "code",
   "execution_count": 52,
   "id": "7f3c9dc4-cee9-4d9c-aab9-612ca7765747",
   "metadata": {},
   "outputs": [
    {
     "data": {
      "text/plain": [
       "'four'"
      ]
     },
     "execution_count": 52,
     "metadata": {},
     "output_type": "execute_result"
    }
   ],
   "source": [
    "mytuple[3]   # indexing"
   ]
  },
  {
   "cell_type": "code",
   "execution_count": 53,
   "id": "d16addd7-fc9e-4357-8975-053d917d6797",
   "metadata": {},
   "outputs": [
    {
     "data": {
      "text/plain": [
       "4"
      ]
     },
     "execution_count": 53,
     "metadata": {},
     "output_type": "execute_result"
    }
   ],
   "source": [
    "mytuple.index('five')  # Index of first element equal to four "
   ]
  },
  {
   "cell_type": "markdown",
   "id": "41b3c938-44b5-4a39-81db-067b7aac6f13",
   "metadata": {},
   "source": [
    "### Sorting"
   ]
  },
  {
   "cell_type": "code",
   "execution_count": 55,
   "id": "6675252e-fdfc-43a4-9b6a-c92cdab7b9bf",
   "metadata": {},
   "outputs": [],
   "source": [
    "mytuple2 = (43, 67, 99, 12, 6, 90, 67)"
   ]
  },
  {
   "cell_type": "code",
   "execution_count": 56,
   "id": "8b0a297d-bcc8-4e60-86d1-826ab5e66436",
   "metadata": {},
   "outputs": [
    {
     "data": {
      "text/plain": [
       "[6, 12, 43, 67, 67, 90, 99]"
      ]
     },
     "execution_count": 56,
     "metadata": {},
     "output_type": "execute_result"
    }
   ],
   "source": [
    "sorted(mytuple2)    # Return a new sorted list and does not change original tuple"
   ]
  },
  {
   "cell_type": "code",
   "execution_count": 57,
   "id": "a49f8159-9600-43ae-aad0-bd55b6eb7d9b",
   "metadata": {},
   "outputs": [
    {
     "data": {
      "text/plain": [
       "[99, 90, 67, 67, 43, 12, 6]"
      ]
     },
     "execution_count": 57,
     "metadata": {},
     "output_type": "execute_result"
    }
   ],
   "source": [
    "sorted(mytuple2, reverse=True)   # Sort in decending order"
   ]
  },
  {
   "cell_type": "code",
   "execution_count": null,
   "id": "1f8f7f8c-6621-4da1-a01b-2b1e00e22fcf",
   "metadata": {},
   "outputs": [],
   "source": []
  },
  {
   "cell_type": "markdown",
   "id": "76cd73ba-7f2a-4254-b47f-c2419ff7de9f",
   "metadata": {},
   "source": [
    "#### Sets Unordered collections of unique items. {}"
   ]
  },
  {
   "cell_type": "raw",
   "id": "f2cb1bcb-db7f-4dcd-8adb-04e61f4d66d5",
   "metadata": {},
   "source": [
    "- Unordered & Unindexed collection of items\n",
    "- Set elements are unique. Duplicate elements are not allowed\n",
    "- Set elements are immutable (cannot changed)\n",
    "- Set itself is mutable ie we can add or remove ites from it"
   ]
  },
  {
   "cell_type": "code",
   "execution_count": 59,
   "id": "827e4b7a-c926-45af-9f82-cec399830405",
   "metadata": {},
   "outputs": [
    {
     "name": "stdout",
     "output_type": "stream",
     "text": [
      "<class 'set'>\n"
     ]
    }
   ],
   "source": [
    "myset = {1,2,3,4,5}     # Ste of a numbers\n",
    "print(type(myset))"
   ]
  },
  {
   "cell_type": "code",
   "execution_count": 60,
   "id": "3bc011d6-f160-4a5d-8159-c4a2f58d428f",
   "metadata": {},
   "outputs": [
    {
     "data": {
      "text/plain": [
       "5"
      ]
     },
     "execution_count": 60,
     "metadata": {},
     "output_type": "execute_result"
    }
   ],
   "source": [
    "len(myset)    # Length of the set"
   ]
  },
  {
   "cell_type": "code",
   "execution_count": 61,
   "id": "3f2a04a9-c9a2-4c58-92d3-b4a4d6a686d0",
   "metadata": {},
   "outputs": [
    {
     "data": {
      "text/plain": [
       "{1, 2, 3, 4, 5}"
      ]
     },
     "execution_count": 61,
     "metadata": {},
     "output_type": "execute_result"
    }
   ],
   "source": [
    "my_set = {1,1,2,2,3,4,5,5}    # Duplicate items are not allowed\n",
    "my_set"
   ]
  },
  {
   "cell_type": "code",
   "execution_count": 62,
   "id": "70c5b9a9-1264-4302-8000-8f13bc86b569",
   "metadata": {},
   "outputs": [
    {
     "data": {
      "text/plain": [
       "{1.74, 2.07, 3.99, 4.23, 5.0}"
      ]
     },
     "execution_count": 62,
     "metadata": {},
     "output_type": "execute_result"
    }
   ],
   "source": [
    "myset1 = {1.74, 2.07, 3.99, 4.23, 5.0}  # Set of foats\n",
    "myset1"
   ]
  },
  {
   "cell_type": "code",
   "execution_count": 63,
   "id": "f71f9f1e-7b10-4261-934b-d252bfa3bb71",
   "metadata": {},
   "outputs": [
    {
     "data": {
      "text/plain": [
       "{'Asif', 'Jaden', 'Mike'}"
      ]
     },
     "execution_count": 63,
     "metadata": {},
     "output_type": "execute_result"
    }
   ],
   "source": [
    "myset2 = {'Asif', 'Mike', 'Jaden'}   # Set of string\n",
    "myset2"
   ]
  },
  {
   "cell_type": "code",
   "execution_count": 64,
   "id": "ad2516a1-d962-4981-8b7d-afc1ca2847b5",
   "metadata": {},
   "outputs": [],
   "source": [
    "#myset3 = {10, 20, 3.4, [11, 12, 13]}  # Set does not allow mutable items list like lists"
   ]
  },
  {
   "cell_type": "code",
   "execution_count": 65,
   "id": "9998af21-dc18-4d94-9c20-de2c70f5fab1",
   "metadata": {},
   "outputs": [
    {
     "data": {
      "text/plain": [
       "[10, 20, 3.4, [11, 12, 13], {2, 4}]"
      ]
     },
     "execution_count": 65,
     "metadata": {},
     "output_type": "execute_result"
    }
   ],
   "source": [
    "mylist3 = [10, 20, 3.4, [11, 12, 13], {2,2,4}]   # List allow  mutable items\n",
    "mylist3"
   ]
  },
  {
   "cell_type": "code",
   "execution_count": 66,
   "id": "56d0bb61-ef19-42d5-91e5-49fe35f92119",
   "metadata": {},
   "outputs": [
    {
     "name": "stdout",
     "output_type": "stream",
     "text": [
      "<class 'set'>\n"
     ]
    }
   ],
   "source": [
    "myset4 = set()    # Create an empty set\n",
    "print(type(myset4))"
   ]
  },
  {
   "cell_type": "code",
   "execution_count": 67,
   "id": "22c12b24-975d-4d71-9757-f967e25b6752",
   "metadata": {},
   "outputs": [
    {
     "data": {
      "text/plain": [
       "{'four', 'one', 'three', 'two'}"
      ]
     },
     "execution_count": 67,
     "metadata": {},
     "output_type": "execute_result"
    }
   ],
   "source": [
    "my_set1 = set(('one', 'two', 'three', 'four'))\n",
    "my_set1"
   ]
  },
  {
   "cell_type": "markdown",
   "id": "001a1fde-dd01-44cf-a747-9118cef1384a",
   "metadata": {},
   "source": [
    "### Loop through a Set"
   ]
  },
  {
   "cell_type": "code",
   "execution_count": 69,
   "id": "e46ac8ff-bc17-40a4-8697-8a3cc8ea0203",
   "metadata": {},
   "outputs": [
    {
     "data": {
      "text/plain": [
       "{'eight', 'five', 'four', 'one', 'seven', 'six', 'three', 'two'}"
      ]
     },
     "execution_count": 69,
     "metadata": {},
     "output_type": "execute_result"
    }
   ],
   "source": [
    "myset = {'one', 'two', 'three', 'four', 'five', 'six', 'seven', 'eight'}\n",
    "myset"
   ]
  },
  {
   "cell_type": "code",
   "execution_count": 70,
   "id": "1485cdf2-1c2f-43a7-97bc-384d87dd822a",
   "metadata": {},
   "outputs": [
    {
     "name": "stdout",
     "output_type": "stream",
     "text": [
      "six\n",
      "one\n",
      "seven\n",
      "two\n",
      "three\n",
      "five\n",
      "four\n",
      "eight\n"
     ]
    }
   ],
   "source": [
    "for i in myset:\n",
    "    print(i)"
   ]
  },
  {
   "cell_type": "code",
   "execution_count": 71,
   "id": "1292cce5-6b39-4d9c-84c3-62db0655756e",
   "metadata": {},
   "outputs": [
    {
     "name": "stdout",
     "output_type": "stream",
     "text": [
      "(0, 'six')\n",
      "(1, 'one')\n",
      "(2, 'seven')\n",
      "(3, 'two')\n",
      "(4, 'three')\n",
      "(5, 'five')\n",
      "(6, 'four')\n",
      "(7, 'eight')\n"
     ]
    }
   ],
   "source": [
    "for i in enumerate(myset):\n",
    "    print(i)"
   ]
  },
  {
   "cell_type": "code",
   "execution_count": 72,
   "id": "65ca5686-8bc8-456d-b2b2-a29c8760a02b",
   "metadata": {},
   "outputs": [
    {
     "name": "stdout",
     "output_type": "stream",
     "text": [
      "0 six\n",
      "1 one\n",
      "2 seven\n",
      "3 two\n",
      "4 three\n",
      "5 five\n",
      "6 four\n",
      "7 eight\n"
     ]
    }
   ],
   "source": [
    "for i, x in enumerate(myset):\n",
    "    print(i, x)"
   ]
  },
  {
   "cell_type": "markdown",
   "id": "fbd96c4e-59f5-4864-9aee-895370384594",
   "metadata": {},
   "source": [
    "### Set Membership"
   ]
  },
  {
   "cell_type": "code",
   "execution_count": 74,
   "id": "174c8974-12e2-4171-80a9-c1d07fbaaa36",
   "metadata": {},
   "outputs": [
    {
     "data": {
      "text/plain": [
       "{'eight', 'five', 'four', 'one', 'seven', 'six', 'three', 'two'}"
      ]
     },
     "execution_count": 74,
     "metadata": {},
     "output_type": "execute_result"
    }
   ],
   "source": [
    "myset"
   ]
  },
  {
   "cell_type": "code",
   "execution_count": 75,
   "id": "08cf388b-ae63-437f-adcb-a545af52ff5e",
   "metadata": {},
   "outputs": [
    {
     "name": "stdout",
     "output_type": "stream",
     "text": [
      "One is present in the set\n"
     ]
    }
   ],
   "source": [
    "if 'one' in myset:\n",
    "    print(\"One is present in the set\")\n",
    "else:\n",
    "    print(\"One is not present in the set\")"
   ]
  },
  {
   "cell_type": "code",
   "execution_count": 76,
   "id": "d184a3ba-6de0-467d-bc42-c69753ba943d",
   "metadata": {},
   "outputs": [
    {
     "data": {
      "text/plain": [
       "True"
      ]
     },
     "execution_count": 76,
     "metadata": {},
     "output_type": "execute_result"
    }
   ],
   "source": [
    "'one' in myset"
   ]
  },
  {
   "cell_type": "markdown",
   "id": "a8d42a42-3359-49d1-bc5c-dd364beef5be",
   "metadata": {},
   "source": [
    "### Add and Remove Items"
   ]
  },
  {
   "cell_type": "code",
   "execution_count": 78,
   "id": "bdc3aed4-b8fe-446a-8caa-ea89074b5d59",
   "metadata": {},
   "outputs": [
    {
     "data": {
      "text/plain": [
       "{'eight', 'five', 'four', 'one', 'seven', 'six', 'three', 'two'}"
      ]
     },
     "execution_count": 78,
     "metadata": {},
     "output_type": "execute_result"
    }
   ],
   "source": [
    "myset"
   ]
  },
  {
   "cell_type": "code",
   "execution_count": 79,
   "id": "098542fa-5279-446e-84af-f628a0387628",
   "metadata": {},
   "outputs": [
    {
     "data": {
      "text/plain": [
       "{'NINE', 'eight', 'five', 'four', 'one', 'seven', 'six', 'three', 'two'}"
      ]
     },
     "execution_count": 79,
     "metadata": {},
     "output_type": "execute_result"
    }
   ],
   "source": [
    "myset.add('NINE')     # Add item to a set using add() method\n",
    "myset"
   ]
  },
  {
   "cell_type": "code",
   "execution_count": 80,
   "id": "0e7458aa-9386-4ac1-94f0-6af440a25a27",
   "metadata": {},
   "outputs": [
    {
     "data": {
      "text/plain": [
       "{'ELEVEN',\n",
       " 'NINE',\n",
       " 'TEN',\n",
       " 'TWELVE',\n",
       " 'eight',\n",
       " 'five',\n",
       " 'four',\n",
       " 'one',\n",
       " 'seven',\n",
       " 'six',\n",
       " 'three',\n",
       " 'two'}"
      ]
     },
     "execution_count": 80,
     "metadata": {},
     "output_type": "execute_result"
    }
   ],
   "source": [
    "myset.update(['TEN', 'ELEVEN', 'TWELVE'])    # Add multiple item to a set using\n",
    "myset "
   ]
  },
  {
   "cell_type": "code",
   "execution_count": 81,
   "id": "45a8c3b4-e31d-409a-873a-101eb6cc34a1",
   "metadata": {},
   "outputs": [
    {
     "data": {
      "text/plain": [
       "{'ELEVEN',\n",
       " 'TEN',\n",
       " 'TWELVE',\n",
       " 'eight',\n",
       " 'five',\n",
       " 'four',\n",
       " 'one',\n",
       " 'seven',\n",
       " 'six',\n",
       " 'three',\n",
       " 'two'}"
      ]
     },
     "execution_count": 81,
     "metadata": {},
     "output_type": "execute_result"
    }
   ],
   "source": [
    "myset.remove('NINE')    # Remove item from a set using remove() method\n",
    "myset"
   ]
  },
  {
   "cell_type": "code",
   "execution_count": 82,
   "id": "524b9872-51c7-45fe-8d2c-d5b884c20cd6",
   "metadata": {},
   "outputs": [
    {
     "data": {
      "text/plain": [
       "{'ELEVEN',\n",
       " 'TWELVE',\n",
       " 'eight',\n",
       " 'five',\n",
       " 'four',\n",
       " 'one',\n",
       " 'seven',\n",
       " 'six',\n",
       " 'three',\n",
       " 'two'}"
      ]
     },
     "execution_count": 82,
     "metadata": {},
     "output_type": "execute_result"
    }
   ],
   "source": [
    "myset.discard('TEN')  # Remove item from a set using discard() method\n",
    "myset"
   ]
  },
  {
   "cell_type": "code",
   "execution_count": 83,
   "id": "8fb6ad1a-9f9e-4413-b2b9-5cc7fa763584",
   "metadata": {},
   "outputs": [
    {
     "data": {
      "text/plain": [
       "set()"
      ]
     },
     "execution_count": 83,
     "metadata": {},
     "output_type": "execute_result"
    }
   ],
   "source": [
    "myset.clear()   # Delete all items in a set\n",
    "myset"
   ]
  },
  {
   "cell_type": "code",
   "execution_count": 84,
   "id": "abe5b343-f7de-42b7-93c4-e3acfe4312fa",
   "metadata": {},
   "outputs": [],
   "source": [
    "#del myset  # Delete the set object"
   ]
  },
  {
   "cell_type": "markdown",
   "id": "956fe2da-b95d-4fc9-a506-7c7f87234a03",
   "metadata": {},
   "source": [
    "### Copy Set"
   ]
  },
  {
   "cell_type": "code",
   "execution_count": 86,
   "id": "4f499872-643f-4602-a7b4-b8502b6d6ca2",
   "metadata": {},
   "outputs": [
    {
     "data": {
      "text/plain": [
       "{'eight', 'five', 'four', 'one', 'seven', 'six', 'three', 'two'}"
      ]
     },
     "execution_count": 86,
     "metadata": {},
     "output_type": "execute_result"
    }
   ],
   "source": [
    "myset = {'eight', 'five', 'four', 'one', 'seven', 'six', 'three', 'two'}\n",
    "myset"
   ]
  },
  {
   "cell_type": "code",
   "execution_count": 87,
   "id": "41d1b6cf-e42a-4b69-9963-d6b2b5e1df6d",
   "metadata": {},
   "outputs": [
    {
     "data": {
      "text/plain": [
       "{'eight', 'five', 'four', 'one', 'seven', 'six', 'three', 'two'}"
      ]
     },
     "execution_count": 87,
     "metadata": {},
     "output_type": "execute_result"
    }
   ],
   "source": [
    "myset1 = myset     # Create a new reference 'myset1'\n",
    "myset1"
   ]
  },
  {
   "cell_type": "code",
   "execution_count": 88,
   "id": "36411955-643b-47fe-bd23-a2fdc21bdc6d",
   "metadata": {},
   "outputs": [
    {
     "data": {
      "text/plain": [
       "(1912595856768, 1912595856768)"
      ]
     },
     "execution_count": 88,
     "metadata": {},
     "output_type": "execute_result"
    }
   ],
   "source": [
    "id(myset), id(myset1)  #  The address of both myset1 wii be thesame as myset"
   ]
  },
  {
   "cell_type": "code",
   "execution_count": null,
   "id": "9aae29c4-6490-4357-a5ed-52d48e3c7cad",
   "metadata": {},
   "outputs": [],
   "source": []
  },
  {
   "cell_type": "code",
   "execution_count": 89,
   "id": "095b04ae-5aef-4fac-a067-5bd9f23e142a",
   "metadata": {},
   "outputs": [
    {
     "data": {
      "text/plain": [
       "{'eight', 'five', 'four', 'one', 'seven', 'six', 'three', 'two'}"
      ]
     },
     "execution_count": 89,
     "metadata": {},
     "output_type": "execute_result"
    }
   ],
   "source": [
    "my_set = myset.copy()   # Create a copy of the list\n",
    "my_set"
   ]
  },
  {
   "cell_type": "code",
   "execution_count": 90,
   "id": "cd234b2f-5c68-4aca-9907-f3de00ab102f",
   "metadata": {},
   "outputs": [
    {
     "data": {
      "text/plain": [
       "1912595855648"
      ]
     },
     "execution_count": 90,
     "metadata": {},
     "output_type": "execute_result"
    }
   ],
   "source": [
    "id(my_set)   # The address of my_set is different from myset "
   ]
  },
  {
   "cell_type": "code",
   "execution_count": 91,
   "id": "064f7bc9-a453-4c69-982e-fb1997ea5d92",
   "metadata": {},
   "outputs": [
    {
     "data": {
      "text/plain": [
       "{'eight', 'five', 'four', 'one', 'seven', 'six', 'three', 'two'}"
      ]
     },
     "execution_count": 91,
     "metadata": {},
     "output_type": "execute_result"
    }
   ],
   "source": [
    "myset"
   ]
  },
  {
   "cell_type": "code",
   "execution_count": 92,
   "id": "d66081b6-1c4f-4741-83b3-70684f5f5374",
   "metadata": {},
   "outputs": [
    {
     "data": {
      "text/plain": [
       "{'eight', 'five', 'four', 'nine', 'one', 'seven', 'six', 'three', 'two'}"
      ]
     },
     "execution_count": 92,
     "metadata": {},
     "output_type": "execute_result"
    }
   ],
   "source": [
    "myset.add('nine')\n",
    "myset"
   ]
  },
  {
   "cell_type": "code",
   "execution_count": 93,
   "id": "4439a4c6-f422-4531-bdad-7f02370623a6",
   "metadata": {},
   "outputs": [
    {
     "data": {
      "text/plain": [
       "{'eight', 'five', 'four', 'nine', 'one', 'seven', 'six', 'three', 'two'}"
      ]
     },
     "execution_count": 93,
     "metadata": {},
     "output_type": "execute_result"
    }
   ],
   "source": [
    "myset1    # is impacted as it is pointing to thesame address"
   ]
  },
  {
   "cell_type": "code",
   "execution_count": 94,
   "id": "a3105330-b0b6-4ab7-8374-22457460d6f4",
   "metadata": {},
   "outputs": [
    {
     "data": {
      "text/plain": [
       "{'eight', 'five', 'four', 'one', 'seven', 'six', 'three', 'two'}"
      ]
     },
     "execution_count": 94,
     "metadata": {},
     "output_type": "execute_result"
    }
   ],
   "source": [
    "my_set  # Copy of the set wont be impacted due to changes made on the original"
   ]
  },
  {
   "cell_type": "markdown",
   "id": "83e1b4ae-da3b-4f53-a9ca-5ee29cfef3d5",
   "metadata": {},
   "source": [
    "### Set Operation"
   ]
  },
  {
   "cell_type": "code",
   "execution_count": 190,
   "id": "f6742429-b100-4082-8167-9bddd76bb7b0",
   "metadata": {},
   "outputs": [],
   "source": [
    "# Union"
   ]
  },
  {
   "cell_type": "code",
   "execution_count": 192,
   "id": "32f10281-43a3-42ee-9898-71ffd3e380b4",
   "metadata": {},
   "outputs": [],
   "source": [
    "A = {1,2,3,4,5}\n",
    "B = {4,5,6,7,8}\n",
    "C = {8,9,10}"
   ]
  },
  {
   "cell_type": "code",
   "execution_count": 194,
   "id": "672afe6b-ec45-4a88-ba82-289c1cc281cd",
   "metadata": {},
   "outputs": [
    {
     "data": {
      "text/plain": [
       "{1, 2, 3, 4, 5, 6, 7, 8}"
      ]
     },
     "execution_count": 194,
     "metadata": {},
     "output_type": "execute_result"
    }
   ],
   "source": [
    "A | B  # Union of A and B (All elements from both sets. NO Duplicate)"
   ]
  },
  {
   "cell_type": "code",
   "execution_count": 196,
   "id": "3e95abb7-8bca-4941-9bc0-df50a799a4f2",
   "metadata": {},
   "outputs": [
    {
     "data": {
      "text/plain": [
       "{1, 2, 3, 4, 5, 6, 7, 8}"
      ]
     },
     "execution_count": 196,
     "metadata": {},
     "output_type": "execute_result"
    }
   ],
   "source": [
    "A.union(B) # Union of A and B"
   ]
  },
  {
   "cell_type": "code",
   "execution_count": 200,
   "id": "52c6c08b-f6d7-452f-a10c-68ed5787461b",
   "metadata": {},
   "outputs": [
    {
     "data": {
      "text/plain": [
       "{1, 2, 3, 4, 5, 6, 7, 8, 9, 10}"
      ]
     },
     "execution_count": 200,
     "metadata": {},
     "output_type": "execute_result"
    }
   ],
   "source": [
    "A.union(B, C) # Union of A, B and C"
   ]
  },
  {
   "cell_type": "code",
   "execution_count": 204,
   "id": "1af10da5-4be8-4072-9a41-92fb6bc58e7b",
   "metadata": {},
   "outputs": [
    {
     "data": {
      "text/plain": [
       "{1, 2, 3, 4, 5, 6, 7, 8, 9, 10}"
      ]
     },
     "execution_count": 204,
     "metadata": {},
     "output_type": "execute_result"
    }
   ],
   "source": [
    "\"\"\"\n",
    "Update the set calling the update() method with union of A, B & C\n",
    "for below example set A will be updated with union of A,B & C\n",
    "\"\"\"\n",
    "A.update(B, C)\n",
    "A"
   ]
  },
  {
   "cell_type": "code",
   "execution_count": 206,
   "id": "f2e968ee-f041-4294-bd70-ea2fbeae5326",
   "metadata": {},
   "outputs": [],
   "source": [
    "# Intersection\n",
    "A = {1,2,3,4,5}\n",
    "B = {4,5,6,7,8}"
   ]
  },
  {
   "cell_type": "code",
   "execution_count": 210,
   "id": "d0d2a303-b988-4761-bcaa-8e5c3bde4d3c",
   "metadata": {},
   "outputs": [
    {
     "data": {
      "text/plain": [
       "{4, 5}"
      ]
     },
     "execution_count": 210,
     "metadata": {},
     "output_type": "execute_result"
    }
   ],
   "source": [
    "A & B # Intersection of A and B (Common items in both sets)"
   ]
  },
  {
   "cell_type": "code",
   "execution_count": 212,
   "id": "22195091-dbf8-4e0e-90b3-df8772da0f0f",
   "metadata": {},
   "outputs": [
    {
     "data": {
      "text/plain": [
       "{4, 5}"
      ]
     },
     "execution_count": 212,
     "metadata": {},
     "output_type": "execute_result"
    }
   ],
   "source": [
    "A.intersection(B)   # Intersection of A and B"
   ]
  },
  {
   "cell_type": "code",
   "execution_count": 216,
   "id": "88a09c4d-2d03-4af9-8fb4-9e5505d4d9dd",
   "metadata": {},
   "outputs": [
    {
     "data": {
      "text/plain": [
       "{4, 5}"
      ]
     },
     "execution_count": 216,
     "metadata": {},
     "output_type": "execute_result"
    }
   ],
   "source": [
    "A.intersection_update(B)    # Update the with the intersection of A and B\n",
    "A"
   ]
  },
  {
   "cell_type": "code",
   "execution_count": 218,
   "id": "b9b20652-b368-454b-8afd-48b7059db401",
   "metadata": {},
   "outputs": [],
   "source": [
    "# Difference \n",
    "A = {1,2,3,4,5}\n",
    "B = {4,5,6,7,8}"
   ]
  },
  {
   "cell_type": "code",
   "execution_count": 220,
   "id": "bd3efb10-c404-4aab-9b83-c88a56feae55",
   "metadata": {},
   "outputs": [
    {
     "data": {
      "text/plain": [
       "{1, 2, 3}"
      ]
     },
     "execution_count": 220,
     "metadata": {},
     "output_type": "execute_result"
    }
   ],
   "source": [
    "A - B  # Set of elements that are only in A but not in B"
   ]
  },
  {
   "cell_type": "code",
   "execution_count": 222,
   "id": "87cc43f4-aee5-45d2-8d6c-5da2c7462656",
   "metadata": {},
   "outputs": [
    {
     "data": {
      "text/plain": [
       "{6, 7, 8}"
      ]
     },
     "execution_count": 222,
     "metadata": {},
     "output_type": "execute_result"
    }
   ],
   "source": [
    "B - A"
   ]
  },
  {
   "cell_type": "code",
   "execution_count": 224,
   "id": "1aa89095-9700-449b-b3f0-a6789034f3ec",
   "metadata": {},
   "outputs": [
    {
     "data": {
      "text/plain": [
       "{1, 2, 3}"
      ]
     },
     "execution_count": 224,
     "metadata": {},
     "output_type": "execute_result"
    }
   ],
   "source": [
    "A.difference(B) # Difference of sets"
   ]
  },
  {
   "cell_type": "code",
   "execution_count": 226,
   "id": "d0429584-c445-42d1-b17c-7a4a4278460c",
   "metadata": {},
   "outputs": [
    {
     "data": {
      "text/plain": [
       "{6, 7, 8}"
      ]
     },
     "execution_count": 226,
     "metadata": {},
     "output_type": "execute_result"
    }
   ],
   "source": [
    "B.difference_update(A)\n",
    "B"
   ]
  },
  {
   "cell_type": "code",
   "execution_count": 242,
   "id": "7ff2d725-497e-4e00-adda-319a411feecb",
   "metadata": {},
   "outputs": [],
   "source": [
    "# Symmetric Difference\n",
    "A = {1,2,3,4,5}\n",
    "B = {4,5,6,7,8}"
   ]
  },
  {
   "cell_type": "code",
   "execution_count": 244,
   "id": "678ede64-6bc0-49f7-b3f6-08dcdc5bd687",
   "metadata": {},
   "outputs": [
    {
     "data": {
      "text/plain": [
       "{1, 2, 3, 6, 7, 8}"
      ]
     },
     "execution_count": 244,
     "metadata": {},
     "output_type": "execute_result"
    }
   ],
   "source": [
    "A ^ B # symmetrical difference (Set of elements in A and B but not in both. \"EXCULSIVE\")"
   ]
  },
  {
   "cell_type": "code",
   "execution_count": 248,
   "id": "5de5870a-553a-49ef-94b8-941696fda412",
   "metadata": {},
   "outputs": [
    {
     "data": {
      "text/plain": [
       "{1, 2, 3, 6, 7, 8}"
      ]
     },
     "execution_count": 248,
     "metadata": {},
     "output_type": "execute_result"
    }
   ],
   "source": [
    "A.symmetric_difference(B) # Symmentric difference of sets\n"
   ]
  },
  {
   "cell_type": "code",
   "execution_count": 250,
   "id": "0c50f889-9009-4943-9ce2-fc9e52b11001",
   "metadata": {},
   "outputs": [
    {
     "data": {
      "text/plain": [
       "{1, 2, 3, 6, 7, 8}"
      ]
     },
     "execution_count": 250,
     "metadata": {},
     "output_type": "execute_result"
    }
   ],
   "source": [
    "\"\"\"\n",
    "Updates the set calling the symmentric_difference_update() method with the symmentric_update\n",
    "for below example set A will be updated with the symmentric difference of A & B\n",
    "\"\"\"\n",
    "A.symmetric_difference_update(B)\n",
    "A"
   ]
  },
  {
   "cell_type": "markdown",
   "id": "eacc0fd8-d438-4b3d-992a-7d33c27c1577",
   "metadata": {},
   "source": [
    "### Subset, Superset & Disjoint"
   ]
  },
  {
   "cell_type": "code",
   "execution_count": 253,
   "id": "1e05ee4a-84cb-48fb-b50d-81dba9f6e60a",
   "metadata": {},
   "outputs": [],
   "source": [
    "A = {1,2,3,4,5,6,7,8,9}\n",
    "B = {3,4,5,6,7,8}\n",
    "C = {10,20,30,40}"
   ]
  },
  {
   "cell_type": "code",
   "execution_count": 255,
   "id": "19eb26a2-7dd4-4942-a4dd-e98cce37f8a1",
   "metadata": {},
   "outputs": [
    {
     "data": {
      "text/plain": [
       "True"
      ]
     },
     "execution_count": 255,
     "metadata": {},
     "output_type": "execute_result"
    }
   ],
   "source": [
    "B.issubset(A)  # Set B is said to be the subset of A if all elements of B are found in A"
   ]
  },
  {
   "cell_type": "code",
   "execution_count": 257,
   "id": "7344a6e8-63de-4338-a88f-e2499a6eef20",
   "metadata": {},
   "outputs": [
    {
     "data": {
      "text/plain": [
       "True"
      ]
     },
     "execution_count": 257,
     "metadata": {},
     "output_type": "execute_result"
    }
   ],
   "source": [
    "A.issuperset(B)  # Set A is said to the superset of B if all elements of B are contained in A"
   ]
  },
  {
   "cell_type": "code",
   "execution_count": 259,
   "id": "1ba3f01b-0499-4313-8c32-9ddd50e8520c",
   "metadata": {},
   "outputs": [
    {
     "data": {
      "text/plain": [
       "True"
      ]
     },
     "execution_count": 259,
     "metadata": {},
     "output_type": "execute_result"
    }
   ],
   "source": [
    "C.isdisjoint(A)  # Two set are set to be disjoint if they have no common element"
   ]
  },
  {
   "cell_type": "code",
   "execution_count": 261,
   "id": "5fbac703-cd20-40c0-9e16-ebb23cc46ed1",
   "metadata": {},
   "outputs": [
    {
     "data": {
      "text/plain": [
       "False"
      ]
     },
     "execution_count": 261,
     "metadata": {},
     "output_type": "execute_result"
    }
   ],
   "source": [
    "B.isdisjoint(A)"
   ]
  },
  {
   "cell_type": "markdown",
   "id": "2febc160-1413-481f-8b89-a0b8edf41a99",
   "metadata": {},
   "source": [
    "### Other Built in functions"
   ]
  },
  {
   "cell_type": "code",
   "execution_count": 264,
   "id": "e0cf0a0d-0161-4575-bfc2-1e67d4c9a0d8",
   "metadata": {},
   "outputs": [
    {
     "data": {
      "text/plain": [
       "{1, 2, 3, 4, 5, 6, 7, 8, 9}"
      ]
     },
     "execution_count": 264,
     "metadata": {},
     "output_type": "execute_result"
    }
   ],
   "source": [
    "A "
   ]
  },
  {
   "cell_type": "code",
   "execution_count": 266,
   "id": "38df1c20-5725-4f96-bd5d-29a87601e689",
   "metadata": {},
   "outputs": [
    {
     "data": {
      "text/plain": [
       "45"
      ]
     },
     "execution_count": 266,
     "metadata": {},
     "output_type": "execute_result"
    }
   ],
   "source": [
    "sum(A)"
   ]
  },
  {
   "cell_type": "code",
   "execution_count": 268,
   "id": "9c79607c-68ab-47f8-b621-0e06fb5e421c",
   "metadata": {},
   "outputs": [
    {
     "data": {
      "text/plain": [
       "9"
      ]
     },
     "execution_count": 268,
     "metadata": {},
     "output_type": "execute_result"
    }
   ],
   "source": [
    "max(A)"
   ]
  },
  {
   "cell_type": "code",
   "execution_count": 270,
   "id": "7079c81d-b9cf-460e-8e85-377412cdce2a",
   "metadata": {},
   "outputs": [
    {
     "data": {
      "text/plain": [
       "1"
      ]
     },
     "execution_count": 270,
     "metadata": {},
     "output_type": "execute_result"
    }
   ],
   "source": [
    "min(A)"
   ]
  },
  {
   "cell_type": "code",
   "execution_count": 272,
   "id": "4ad1afc2-8dd1-4a32-a6db-3c8a5b51bee3",
   "metadata": {},
   "outputs": [
    {
     "data": {
      "text/plain": [
       "9"
      ]
     },
     "execution_count": 272,
     "metadata": {},
     "output_type": "execute_result"
    }
   ],
   "source": [
    "len(A)"
   ]
  },
  {
   "cell_type": "code",
   "execution_count": 274,
   "id": "cb2e5714-14f5-4762-b84e-cec552bf642a",
   "metadata": {},
   "outputs": [
    {
     "data": {
      "text/plain": [
       "[(0, 1), (1, 2), (2, 3), (3, 4), (4, 5), (5, 6), (6, 7), (7, 8), (8, 9)]"
      ]
     },
     "execution_count": 274,
     "metadata": {},
     "output_type": "execute_result"
    }
   ],
   "source": [
    "list(enumerate(A))"
   ]
  },
  {
   "cell_type": "code",
   "execution_count": 280,
   "id": "1c5276fa-33e6-4c22-bf7d-fa95d72b473f",
   "metadata": {},
   "outputs": [
    {
     "data": {
      "text/plain": [
       "[9, 8, 7, 6, 5, 4, 3, 2, 1]"
      ]
     },
     "execution_count": 280,
     "metadata": {},
     "output_type": "execute_result"
    }
   ],
   "source": [
    "D = sorted(A, reverse=True)\n",
    "D"
   ]
  },
  {
   "cell_type": "code",
   "execution_count": 282,
   "id": "babff039-61b4-45e9-9307-415cca546778",
   "metadata": {},
   "outputs": [
    {
     "data": {
      "text/plain": [
       "[1, 2, 3, 4, 5, 6, 7, 8, 9]"
      ]
     },
     "execution_count": 282,
     "metadata": {},
     "output_type": "execute_result"
    }
   ],
   "source": [
    "sorted(D)"
   ]
  },
  {
   "cell_type": "markdown",
   "id": "c8e0511e-d5ac-42b3-97aa-f0ae4b584caa",
   "metadata": {},
   "source": [
    "### Dictionary"
   ]
  },
  {
   "cell_type": "raw",
   "id": "6bbd6339-12b0-418f-8984-7746f88c2eb9",
   "metadata": {},
   "source": [
    "- dictionary is a mutable data type in python\n",
    "- A python dictionary is a collection of key and value pairs seperated be a colon (:) & enclose in curly braces {}\n",
    "- Keys must be unique in a dictionary, duplicate values are allowed"
   ]
  },
  {
   "cell_type": "code",
   "execution_count": 287,
   "id": "bffbd0fc-bf82-4a1a-bd1d-eff0549b92b2",
   "metadata": {},
   "outputs": [
    {
     "data": {
      "text/plain": [
       "{}"
      ]
     },
     "execution_count": 287,
     "metadata": {},
     "output_type": "execute_result"
    }
   ],
   "source": [
    "mydict = dict()   # empty dictionary\n",
    "mydict"
   ]
  },
  {
   "cell_type": "code",
   "execution_count": 293,
   "id": "0ca34d3a-25d8-4463-be00-843566876be4",
   "metadata": {},
   "outputs": [
    {
     "data": {
      "text/plain": [
       "{1: 'one', 2: 'two', 3: 'three'}"
      ]
     },
     "execution_count": 293,
     "metadata": {},
     "output_type": "execute_result"
    }
   ],
   "source": [
    "mydict = {1:'one', 2:'two', 3:'three'}   # dictionary with integer keys\n",
    "mydict"
   ]
  },
  {
   "cell_type": "code",
   "execution_count": 297,
   "id": "037db2df-243b-4f2e-b483-10de1614bc66",
   "metadata": {},
   "outputs": [
    {
     "data": {
      "text/plain": [
       "{'A': 'one', 'B': 'two', 'C': 'three'}"
      ]
     },
     "execution_count": 297,
     "metadata": {},
     "output_type": "execute_result"
    }
   ],
   "source": [
    "mydict = {'A':'one', 'B':'two', 'C':'three'}   # dictionary with character keys\n",
    "mydict"
   ]
  },
  {
   "cell_type": "code",
   "execution_count": 301,
   "id": "b40e4dbf-054d-40f4-9d49-c19d6429b5a3",
   "metadata": {},
   "outputs": [
    {
     "data": {
      "text/plain": [
       "dict_keys(['A', 'B', 'C'])"
      ]
     },
     "execution_count": 301,
     "metadata": {},
     "output_type": "execute_result"
    }
   ],
   "source": [
    "mydict.keys()  # Return dictionary keys using keys () method"
   ]
  },
  {
   "cell_type": "code",
   "execution_count": 303,
   "id": "5a40d695-ef69-44fb-8428-bc6a58f15b88",
   "metadata": {},
   "outputs": [
    {
     "data": {
      "text/plain": [
       "dict_values(['one', 'two', 'three'])"
      ]
     },
     "execution_count": 303,
     "metadata": {},
     "output_type": "execute_result"
    }
   ],
   "source": [
    "mydict.values()  # Return dictionary keys using values () method"
   ]
  },
  {
   "cell_type": "code",
   "execution_count": 305,
   "id": "db32c701-3374-4b78-a107-fccc43053a1f",
   "metadata": {},
   "outputs": [
    {
     "data": {
      "text/plain": [
       "dict_items([('A', 'one'), ('B', 'two'), ('C', 'three')])"
      ]
     },
     "execution_count": 305,
     "metadata": {},
     "output_type": "execute_result"
    }
   ],
   "source": [
    "mydict.items()  # Access each key-value pair within a dictionary"
   ]
  },
  {
   "cell_type": "code",
   "execution_count": 307,
   "id": "985c79fd-1ab7-42c3-b5d1-980e5fd461d1",
   "metadata": {},
   "outputs": [
    {
     "data": {
      "text/plain": [
       "{1: 'one',\n",
       " 2: 'two',\n",
       " 'A': ['Asif', 'Jaden', 'Maria'],\n",
       " 'B': ('Bat', 'cat', 'hat')}"
      ]
     },
     "execution_count": 307,
     "metadata": {},
     "output_type": "execute_result"
    }
   ],
   "source": [
    "mydict = {1:'one', 2:'two', 'A':['Asif', 'Jaden', 'Maria'], 'B':('Bat', 'cat', 'hat')}\n",
    "mydict"
   ]
  },
  {
   "cell_type": "code",
   "execution_count": 311,
   "id": "44961d94-d7e9-4add-b206-3d6beca4789c",
   "metadata": {},
   "outputs": [
    {
     "data": {
      "text/plain": [
       "{'a': None, 'b': None, 'd': None, 'c': None}"
      ]
     },
     "execution_count": 311,
     "metadata": {},
     "output_type": "execute_result"
    }
   ],
   "source": [
    "keys = {'a', 'b', 'c', 'd'}\n",
    "mydict3 = dict.fromkeys(keys)    # Create a dictionary from a sequence of keys\n",
    "mydict3"
   ]
  },
  {
   "cell_type": "code",
   "execution_count": null,
   "id": "9f288fdd-8892-420b-bbea-3897e1880a24",
   "metadata": {},
   "outputs": [],
   "source": [
    "keys = {'a', 'b', 'c', 'd'}"
   ]
  },
  {
   "cell_type": "code",
   "execution_count": 315,
   "id": "6b15465c-1a55-4183-99fc-a1ec8fd2762b",
   "metadata": {},
   "outputs": [],
   "source": [
    "value = 10"
   ]
  },
  {
   "cell_type": "code",
   "execution_count": 320,
   "id": "3046362e-e2c9-4d3e-b821-d24b04a9c0d0",
   "metadata": {},
   "outputs": [
    {
     "data": {
      "text/plain": [
       "{'a': 10, 'b': 10, 'd': 10, 'c': 10}"
      ]
     },
     "execution_count": 320,
     "metadata": {},
     "output_type": "execute_result"
    }
   ],
   "source": [
    "mydict3 = dict.fromkeys(keys, value)\n",
    "mydict3"
   ]
  },
  {
   "cell_type": "code",
   "execution_count": 322,
   "id": "b4f309a6-5c29-4cee-9d8c-a0d537ebbc2e",
   "metadata": {},
   "outputs": [
    {
     "data": {
      "text/plain": [
       "{'a': [10, 20, 30], 'b': [10, 20, 30], 'd': [10, 20, 30], 'c': [10, 20, 30]}"
      ]
     },
     "execution_count": 322,
     "metadata": {},
     "output_type": "execute_result"
    }
   ],
   "source": [
    "keys = {'a', 'b', 'c', 'd'}\n",
    "value = [10, 20, 30]\n",
    "mydict3 = dict.fromkeys(keys, value)\n",
    "mydict3"
   ]
  },
  {
   "cell_type": "code",
   "execution_count": 324,
   "id": "12669816-7ac5-4c9b-99fa-a2fbe30a78cb",
   "metadata": {},
   "outputs": [
    {
     "data": {
      "text/plain": [
       "{'a': [10, 20, 30, 40],\n",
       " 'b': [10, 20, 30, 40],\n",
       " 'd': [10, 20, 30, 40],\n",
       " 'c': [10, 20, 30, 40]}"
      ]
     },
     "execution_count": 324,
     "metadata": {},
     "output_type": "execute_result"
    }
   ],
   "source": [
    "value.append(40)\n",
    "mydict3"
   ]
  },
  {
   "cell_type": "markdown",
   "id": "3a56892c-7092-4c25-94b3-8dcea64c5c91",
   "metadata": {},
   "source": [
    "### Accessing items"
   ]
  },
  {
   "cell_type": "code",
   "execution_count": 331,
   "id": "63b6de4a-331f-4961-bdd6-cae3608090c3",
   "metadata": {},
   "outputs": [
    {
     "data": {
      "text/plain": [
       "{1: 'one', 2: 'two', 3: 'three', 4: 'four'}"
      ]
     },
     "execution_count": 331,
     "metadata": {},
     "output_type": "execute_result"
    }
   ],
   "source": [
    "mydict = {1:'one', 2:'two', 3:'three', 4:'four'}\n",
    "mydict"
   ]
  },
  {
   "cell_type": "code",
   "execution_count": 335,
   "id": "4de1e704-d567-43eb-82c1-03d3acd60dd2",
   "metadata": {},
   "outputs": [
    {
     "data": {
      "text/plain": [
       "'one'"
      ]
     },
     "execution_count": 335,
     "metadata": {},
     "output_type": "execute_result"
    }
   ],
   "source": [
    "mydict[1]    # Access item using key"
   ]
  },
  {
   "cell_type": "code",
   "execution_count": 339,
   "id": "cb0d9a33-e722-4f0a-a678-77031e1f6c9d",
   "metadata": {},
   "outputs": [
    {
     "data": {
      "text/plain": [
       "'one'"
      ]
     },
     "execution_count": 339,
     "metadata": {},
     "output_type": "execute_result"
    }
   ],
   "source": [
    "mydict.get(1)   # Access item using method ()"
   ]
  },
  {
   "cell_type": "code",
   "execution_count": 347,
   "id": "c3d04666-9a83-4e8c-b394-9ad82930b34f",
   "metadata": {},
   "outputs": [
    {
     "data": {
      "text/plain": [
       "{'Name': 'Asif', 'ID': 2345, 'DOB': 1917, 'job': 'Analyst'}"
      ]
     },
     "execution_count": 347,
     "metadata": {},
     "output_type": "execute_result"
    }
   ],
   "source": [
    "mydict1 = {'Name':'Asif', 'ID': 2345, 'DOB': 1917, 'job':'Analyst'}\n",
    "mydict"
   ]
  },
  {
   "cell_type": "code",
   "execution_count": 355,
   "id": "6fe84ac7-a70e-46cd-9f3d-2c01c6729cf9",
   "metadata": {},
   "outputs": [
    {
     "data": {
      "text/plain": [
       "'Asif'"
      ]
     },
     "execution_count": 355,
     "metadata": {},
     "output_type": "execute_result"
    }
   ],
   "source": [
    "mydict1['Name']  # Access item using key"
   ]
  },
  {
   "cell_type": "code",
   "execution_count": 353,
   "id": "7ae06e62-0be4-4570-a685-9a487e1b9258",
   "metadata": {},
   "outputs": [
    {
     "data": {
      "text/plain": [
       "'Analyst'"
      ]
     },
     "execution_count": 353,
     "metadata": {},
     "output_type": "execute_result"
    }
   ],
   "source": [
    "mydict1.get('job')"
   ]
  },
  {
   "cell_type": "markdown",
   "id": "74c92be6-9801-47f6-a583-6b079eecaa3d",
   "metadata": {},
   "source": [
    "### Add, Remove & Change Items"
   ]
  },
  {
   "cell_type": "code",
   "execution_count": 358,
   "id": "8f151efa-bb8e-4567-98ef-1195f9a0f8bd",
   "metadata": {},
   "outputs": [
    {
     "data": {
      "text/plain": [
       "{'Name': 'Asif', 'ID': 2345, 'DOB': 1917, 'Address': 'Stewart'}"
      ]
     },
     "execution_count": 358,
     "metadata": {},
     "output_type": "execute_result"
    }
   ],
   "source": [
    "mydict1 = {'Name':'Asif', 'ID': 2345, 'DOB': 1917, 'Address':'Stewart'}\n",
    "mydict1"
   ]
  },
  {
   "cell_type": "code",
   "execution_count": 360,
   "id": "cda6d837-4470-4bc8-8654-c64c4c56b97e",
   "metadata": {},
   "outputs": [
    {
     "data": {
      "text/plain": [
       "{'Name': 'Asif', 'ID': 2345, 'DOB': 1992, 'Address': 'Slateford'}"
      ]
     },
     "execution_count": 360,
     "metadata": {},
     "output_type": "execute_result"
    }
   ],
   "source": [
    "mydict1['DOB'] = 1992    # Changing Dictionary Items\n",
    "mydict1['Address'] = 'Slateford'\n",
    "mydict1"
   ]
  },
  {
   "cell_type": "code",
   "execution_count": 362,
   "id": "6bd58117-d5d8-4b3a-a40c-5e757696b1b7",
   "metadata": {},
   "outputs": [
    {
     "data": {
      "text/plain": [
       "{'Name': 'Asif', 'ID': 2345, 'DOB': 1990, 'Address': 'Slateford'}"
      ]
     },
     "execution_count": 362,
     "metadata": {},
     "output_type": "execute_result"
    }
   ],
   "source": [
    "dict1 = {'DOB':1990}\n",
    "mydict1.update(dict1)\n",
    "mydict1"
   ]
  },
  {
   "cell_type": "code",
   "execution_count": 364,
   "id": "415a6a26-6947-4631-bc55-1800744656d7",
   "metadata": {},
   "outputs": [
    {
     "data": {
      "text/plain": [
       "{'Name': 'Asif',\n",
       " 'ID': 2345,\n",
       " 'DOB': 1990,\n",
       " 'Address': 'Slateford',\n",
       " 'Job': 'Analyst'}"
      ]
     },
     "execution_count": 364,
     "metadata": {},
     "output_type": "execute_result"
    }
   ],
   "source": [
    "mydict1['Job'] = 'Analyst'   # adding items in the dictionary\n",
    "mydict1"
   ]
  },
  {
   "cell_type": "code",
   "execution_count": 366,
   "id": "47b2bff6-282e-4a4b-9c17-fcae460f173d",
   "metadata": {},
   "outputs": [
    {
     "data": {
      "text/plain": [
       "{'Name': 'Asif', 'ID': 2345, 'DOB': 1990, 'Address': 'Slateford'}"
      ]
     },
     "execution_count": 366,
     "metadata": {},
     "output_type": "execute_result"
    }
   ],
   "source": [
    "mydict1.pop('Job')  # Removing items in the dictionary using pop method\n",
    "mydict1"
   ]
  },
  {
   "cell_type": "code",
   "execution_count": 368,
   "id": "50048498-7cd6-4711-a087-c60642ae54ae",
   "metadata": {},
   "outputs": [
    {
     "data": {
      "text/plain": [
       "('Address', 'Slateford')"
      ]
     },
     "execution_count": 368,
     "metadata": {},
     "output_type": "execute_result"
    }
   ],
   "source": [
    "mydict1.popitem()   # A random item is removed"
   ]
  },
  {
   "cell_type": "code",
   "execution_count": 370,
   "id": "bc9f723d-5b5f-4cd7-adcf-8a1797c2240f",
   "metadata": {},
   "outputs": [
    {
     "data": {
      "text/plain": [
       "{'Name': 'Asif', 'ID': 2345, 'DOB': 1990}"
      ]
     },
     "execution_count": 370,
     "metadata": {},
     "output_type": "execute_result"
    }
   ],
   "source": [
    "mydict1"
   ]
  },
  {
   "cell_type": "code",
   "execution_count": 372,
   "id": "cce02aa8-c366-4f37-904e-717630056876",
   "metadata": {},
   "outputs": [
    {
     "data": {
      "text/plain": [
       "{'Name': 'Asif', 'DOB': 1990}"
      ]
     },
     "execution_count": 372,
     "metadata": {},
     "output_type": "execute_result"
    }
   ],
   "source": [
    "del[mydict1['ID']]   # Removing item using del method\n",
    "mydict1"
   ]
  },
  {
   "cell_type": "code",
   "execution_count": 374,
   "id": "2ea6a9df-b691-40e7-a59d-b17a1a261a57",
   "metadata": {},
   "outputs": [
    {
     "data": {
      "text/plain": [
       "{}"
      ]
     },
     "execution_count": 374,
     "metadata": {},
     "output_type": "execute_result"
    }
   ],
   "source": [
    "mydict1.clear() # Delete all items of the dictionary using clear method\n",
    "mydict1"
   ]
  },
  {
   "cell_type": "code",
   "execution_count": null,
   "id": "b352a604-31c0-4224-9fe0-a5ffc671cb41",
   "metadata": {},
   "outputs": [],
   "source": []
  },
  {
   "cell_type": "markdown",
   "id": "4508f1b2-b785-4597-9044-30654f7600c5",
   "metadata": {},
   "source": [
    "### Cope Dictionary"
   ]
  },
  {
   "cell_type": "code",
   "execution_count": 381,
   "id": "b5cb32f9-9f25-4a6e-80de-4a3ba25f53df",
   "metadata": {},
   "outputs": [
    {
     "data": {
      "text/plain": [
       "{'Name': 'Asif', 'ID': 2345, 'DOB': 1990, 'Address': 'Slateford'}"
      ]
     },
     "execution_count": 381,
     "metadata": {},
     "output_type": "execute_result"
    }
   ],
   "source": [
    "mydict1 = {'Name': 'Asif', 'ID': 2345, 'DOB': 1990, 'Address': 'Slateford'}\n",
    "mydict1"
   ]
  },
  {
   "cell_type": "code",
   "execution_count": 383,
   "id": "80b8e00b-f6f5-4e0a-89c8-622d2dfa44d5",
   "metadata": {},
   "outputs": [],
   "source": [
    "mydict1 = mydict   # Create a new reference 'mydict1'"
   ]
  },
  {
   "cell_type": "code",
   "execution_count": 387,
   "id": "c53c234a-c6af-4fe6-8ddc-7e8f4b507c06",
   "metadata": {},
   "outputs": [
    {
     "data": {
      "text/plain": [
       "(1912619811072, 1912619811072)"
      ]
     },
     "execution_count": 387,
     "metadata": {},
     "output_type": "execute_result"
    }
   ],
   "source": [
    "id(mydict) , id(mydict1)  # The both address are same "
   ]
  },
  {
   "cell_type": "code",
   "execution_count": 389,
   "id": "24abc2f5-dad3-488c-88de-a8b5566f8c80",
   "metadata": {},
   "outputs": [],
   "source": [
    "mydict2 = mydict1.copy()     # Create a copy of the dictionary\n"
   ]
  },
  {
   "cell_type": "code",
   "execution_count": 391,
   "id": "9ea4124c-45a9-40f8-bb46-7cbd6a9b3718",
   "metadata": {},
   "outputs": [
    {
     "data": {
      "text/plain": [
       "1912618042624"
      ]
     },
     "execution_count": 391,
     "metadata": {},
     "output_type": "execute_result"
    }
   ],
   "source": [
    "id(mydict2)"
   ]
  },
  {
   "cell_type": "code",
   "execution_count": 393,
   "id": "8d2ba5a6-df01-454d-8970-11bd2547a556",
   "metadata": {},
   "outputs": [
    {
     "data": {
      "text/plain": [
       "{'Name': 'Asif', 'ID': 2345, 'DOB': 1917, 'job': 'Analyst', 'Address': 'Creg'}"
      ]
     },
     "execution_count": 393,
     "metadata": {},
     "output_type": "execute_result"
    }
   ],
   "source": [
    "mydict['Address'] = 'Creg'\n",
    "mydict"
   ]
  },
  {
   "cell_type": "code",
   "execution_count": 397,
   "id": "565d6bd8-6b98-41a0-86e0-a00a733b4207",
   "metadata": {},
   "outputs": [
    {
     "data": {
      "text/plain": [
       "{'Name': 'Asif', 'ID': 2345, 'DOB': 1917, 'job': 'Analyst', 'Address': 'Creg'}"
      ]
     },
     "execution_count": 397,
     "metadata": {},
     "output_type": "execute_result"
    }
   ],
   "source": [
    "mydict1   # this is also impacted"
   ]
  },
  {
   "cell_type": "code",
   "execution_count": 401,
   "id": "cd3ec43d-354a-4ac0-8b7d-beb7e8ad4140",
   "metadata": {},
   "outputs": [
    {
     "data": {
      "text/plain": [
       "{'Name': 'Asif', 'ID': 2345, 'DOB': 1917, 'job': 'Analyst'}"
      ]
     },
     "execution_count": 401,
     "metadata": {},
     "output_type": "execute_result"
    }
   ],
   "source": [
    "mydict2    # Copy of list wont be impacted due to changes amde in the original"
   ]
  },
  {
   "cell_type": "markdown",
   "id": "7897338e-f355-4d9a-9f84-b774e520005f",
   "metadata": {},
   "source": [
    "### Loop through a Dictionary"
   ]
  },
  {
   "cell_type": "code",
   "execution_count": 408,
   "id": "b7dfa4e9-9693-4791-8e6a-85a5968d7e7d",
   "metadata": {},
   "outputs": [
    {
     "data": {
      "text/plain": [
       "{'Name': 'Asif', 'ID': 2345, 'DOB': 1990, 'Address': 'Slateford'}"
      ]
     },
     "execution_count": 408,
     "metadata": {},
     "output_type": "execute_result"
    }
   ],
   "source": [
    "mydict1 = {'Name': 'Asif', 'ID': 2345, 'DOB': 1990, 'Address': 'Slateford'}\n",
    "mydict1"
   ]
  },
  {
   "cell_type": "code",
   "execution_count": 410,
   "id": "75a134a1-4e36-444e-bb9b-51f8441bc7fc",
   "metadata": {},
   "outputs": [
    {
     "name": "stdout",
     "output_type": "stream",
     "text": [
      "Name : Asif\n",
      "ID : 2345\n",
      "DOB : 1990\n",
      "Address : Slateford\n"
     ]
    }
   ],
   "source": [
    "for i in mydict1:\n",
    "    print(i, ':', mydict1[i])  # key and value pair"
   ]
  },
  {
   "cell_type": "code",
   "execution_count": 415,
   "id": "a9580c4b-5f20-4b35-8755-33055b959c9f",
   "metadata": {},
   "outputs": [
    {
     "name": "stdout",
     "output_type": "stream",
     "text": [
      "Asif\n",
      "2345\n",
      "1990\n",
      "Slateford\n"
     ]
    }
   ],
   "source": [
    "for i in mydict1:\n",
    "    print(mydict1[i])  # Dictionary items"
   ]
  },
  {
   "cell_type": "markdown",
   "id": "34610588-42d9-4257-a9e2-ce203b06f30c",
   "metadata": {},
   "source": [
    "### Dictionary Membership"
   ]
  },
  {
   "cell_type": "code",
   "execution_count": 418,
   "id": "2ac1e4e2-6d7b-4f5c-a939-a85617dd7e67",
   "metadata": {},
   "outputs": [
    {
     "data": {
      "text/plain": [
       "{'Name': 'Asif', 'ID': 2345, 'DOB': 1990, 'Job': 'Analyst'}"
      ]
     },
     "execution_count": 418,
     "metadata": {},
     "output_type": "execute_result"
    }
   ],
   "source": [
    "mydict1 = {'Name': 'Asif', 'ID': 2345, 'DOB': 1990, 'Job': 'Analyst'}\n",
    "mydict1"
   ]
  },
  {
   "cell_type": "code",
   "execution_count": 420,
   "id": "9efbb7b5-cae9-46e6-a118-5a9788182af5",
   "metadata": {},
   "outputs": [
    {
     "data": {
      "text/plain": [
       "True"
      ]
     },
     "execution_count": 420,
     "metadata": {},
     "output_type": "execute_result"
    }
   ],
   "source": [
    "'Name' in mydict1   # Test if a key is in a dictionary or not"
   ]
  },
  {
   "cell_type": "code",
   "execution_count": 422,
   "id": "93768d53-a59a-427f-b7d6-26e3b5ddd0f4",
   "metadata": {},
   "outputs": [
    {
     "data": {
      "text/plain": [
       "False"
      ]
     },
     "execution_count": 422,
     "metadata": {},
     "output_type": "execute_result"
    }
   ],
   "source": [
    "'Asif' in mydict1"
   ]
  },
  {
   "cell_type": "markdown",
   "id": "a23f1026-f1c7-4cd1-b338-57937946e786",
   "metadata": {},
   "source": [
    "### All / Any"
   ]
  },
  {
   "cell_type": "raw",
   "id": "99fc7148-f45b-46e0-a1ea-085f0a1bb09a",
   "metadata": {},
   "source": [
    "The all() method returns:\n",
    "- True - if all keys of the dictionary are true\n",
    "- False - if any key of the dictionary is false\n",
    "The any() function returns True if any key of the dictionary id True. if not, any() returns False"
   ]
  },
  {
   "cell_type": "code",
   "execution_count": 425,
   "id": "c34c9799-3b4f-4455-8b04-039cac6d4da3",
   "metadata": {},
   "outputs": [
    {
     "data": {
      "text/plain": [
       "{'Name': 'Asif', 'ID': 2345, 'DOB': 1990, 'Job': 'Analyst'}"
      ]
     },
     "execution_count": 425,
     "metadata": {},
     "output_type": "execute_result"
    }
   ],
   "source": [
    "mydict1 = {'Name': 'Asif', 'ID': 2345, 'DOB': 1990, 'Job': 'Analyst'}\n",
    "mydict1"
   ]
  },
  {
   "cell_type": "code",
   "execution_count": 427,
   "id": "942ad5ac-97d5-4257-8a0b-083f77d63e86",
   "metadata": {},
   "outputs": [
    {
     "data": {
      "text/plain": [
       "True"
      ]
     },
     "execution_count": 427,
     "metadata": {},
     "output_type": "execute_result"
    }
   ],
   "source": [
    "all(mydict1)  # will Return false as one value is false (value 0)"
   ]
  },
  {
   "cell_type": "markdown",
   "id": "b1697447-1882-4e76-925f-8f66c883e58c",
   "metadata": {},
   "source": [
    "### Range"
   ]
  },
  {
   "cell_type": "code",
   "execution_count": 430,
   "id": "10799adf-d6be-41a7-8989-54d2e9ce57c8",
   "metadata": {},
   "outputs": [
    {
     "data": {
      "text/plain": [
       "range(0, 10)"
      ]
     },
     "execution_count": 430,
     "metadata": {},
     "output_type": "execute_result"
    }
   ],
   "source": [
    "range(10)"
   ]
  },
  {
   "cell_type": "code",
   "execution_count": 432,
   "id": "aabe3698-ccc4-40dc-ae80-b9e8a69aa0d8",
   "metadata": {},
   "outputs": [
    {
     "data": {
      "text/plain": [
       "[0, 1, 2, 3, 4, 5, 6, 7, 8, 9]"
      ]
     },
     "execution_count": 432,
     "metadata": {},
     "output_type": "execute_result"
    }
   ],
   "source": [
    "list(range(0,10))"
   ]
  },
  {
   "cell_type": "code",
   "execution_count": 434,
   "id": "d39b80e7-9015-47d8-8f3b-2a5c192f2365",
   "metadata": {},
   "outputs": [
    {
     "data": {
      "text/plain": [
       "[10, 11, 12, 13, 14, 15, 16, 17, 18, 19]"
      ]
     },
     "execution_count": 434,
     "metadata": {},
     "output_type": "execute_result"
    }
   ],
   "source": [
    "list(range(10, 20))"
   ]
  },
  {
   "cell_type": "code",
   "execution_count": 436,
   "id": "4b731d67-9553-4438-8b5c-d7f0f8e66e98",
   "metadata": {},
   "outputs": [
    {
     "data": {
      "text/plain": [
       "[10, 13, 16, 19]"
      ]
     },
     "execution_count": 436,
     "metadata": {},
     "output_type": "execute_result"
    }
   ],
   "source": [
    "list(range(10, 20, 3))  # 3 is the step"
   ]
  },
  {
   "cell_type": "code",
   "execution_count": 438,
   "id": "a62ac8d2-48bb-47b1-af6d-d9c970e14fb4",
   "metadata": {},
   "outputs": [
    {
     "data": {
      "text/plain": [
       "range(1, 10)"
      ]
     },
     "execution_count": 438,
     "metadata": {},
     "output_type": "execute_result"
    }
   ],
   "source": [
    "range1 = range(1, 10)\n",
    "range1"
   ]
  },
  {
   "cell_type": "code",
   "execution_count": 440,
   "id": "7521a1a9-8ab8-4a27-8e77-c8e8e68e6f09",
   "metadata": {},
   "outputs": [
    {
     "name": "stdout",
     "output_type": "stream",
     "text": [
      "1\n",
      "2\n",
      "3\n",
      "4\n",
      "5\n",
      "6\n",
      "7\n",
      "8\n",
      "9\n"
     ]
    }
   ],
   "source": [
    "for i in range1:\n",
    "    print(i)"
   ]
  },
  {
   "cell_type": "code",
   "execution_count": null,
   "id": "3120d149-d62a-4dd4-97fe-8a634f6392cc",
   "metadata": {},
   "outputs": [],
   "source": []
  },
  {
   "cell_type": "code",
   "execution_count": null,
   "id": "a3f1749f-1151-4acc-a7ef-5cdab32985c3",
   "metadata": {},
   "outputs": [],
   "source": []
  }
 ],
 "metadata": {
  "kernelspec": {
   "display_name": "Python [conda env:base] *",
   "language": "python",
   "name": "conda-base-py"
  },
  "language_info": {
   "codemirror_mode": {
    "name": "ipython",
    "version": 3
   },
   "file_extension": ".py",
   "mimetype": "text/x-python",
   "name": "python",
   "nbconvert_exporter": "python",
   "pygments_lexer": "ipython3",
   "version": "3.12.7"
  }
 },
 "nbformat": 4,
 "nbformat_minor": 5
}
